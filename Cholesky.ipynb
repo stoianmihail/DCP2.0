{
 "cells": [
  {
   "cell_type": "code",
   "execution_count": 14,
   "metadata": {},
   "outputs": [
    {
     "name": "stdout",
     "output_type": "stream",
     "text": [
      "input=tensor([[0.6780, 0.5653, 0.9281],\n",
      "        [0.4807, 0.1337, 0.8328],\n",
      "        [0.0082, 0.6732, 0.0724],\n",
      "        [0.7547, 0.5314, 0.3209],\n",
      "        [0.1066, 0.7883, 0.8796],\n",
      "        [0.8593, 0.1064, 0.0486],\n",
      "        [0.5722, 0.0228, 0.9265],\n",
      "        [0.8189, 0.9836, 0.1628]])\n"
     ]
    },
    {
     "ename": "RuntimeError",
     "evalue": "shape mismatch: value tensor of shape [8, 3] cannot be broadcast to indexing result of shape [8, 6]",
     "output_type": "error",
     "traceback": [
      "\u001b[0;31m---------------------------------------------------------------------------\u001b[0m",
      "\u001b[0;31mRuntimeError\u001b[0m                              Traceback (most recent call last)",
      "\u001b[1;32m/home/stoian/dcp/Cholesky.ipynb Cell 1'\u001b[0m in \u001b[0;36m<cell line: 63>\u001b[0;34m()\u001b[0m\n\u001b[1;32m     <a href='vscode-notebook-cell://ssh-remote%2Bscyper11/home/stoian/dcp/Cholesky.ipynb#ch0000000vscode-remote?line=63'>64</a>\u001b[0m \u001b[39minput\u001b[39m \u001b[39m=\u001b[39m torch\u001b[39m.\u001b[39mrand((batch_size, \u001b[39m3\u001b[39m))\n\u001b[1;32m     <a href='vscode-notebook-cell://ssh-remote%2Bscyper11/home/stoian/dcp/Cholesky.ipynb#ch0000000vscode-remote?line=64'>65</a>\u001b[0m \u001b[39m# naive_output = naive_batch_covariance_formula(input)\u001b[39;00m\n\u001b[1;32m     <a href='vscode-notebook-cell://ssh-remote%2Bscyper11/home/stoian/dcp/Cholesky.ipynb#ch0000000vscode-remote?line=65'>66</a>\u001b[0m \u001b[39m# output = batch_covariance_formula(input)\u001b[39;00m\n\u001b[0;32m---> <a href='vscode-notebook-cell://ssh-remote%2Bscyper11/home/stoian/dcp/Cholesky.ipynb#ch0000000vscode-remote?line=66'>67</a>\u001b[0m loss \u001b[39m=\u001b[39m batch_covariance_formula(\u001b[39minput\u001b[39;49m)\n\u001b[1;32m     <a href='vscode-notebook-cell://ssh-remote%2Bscyper11/home/stoian/dcp/Cholesky.ipynb#ch0000000vscode-remote?line=67'>68</a>\u001b[0m \u001b[39massert\u001b[39;00m torch\u001b[39m.\u001b[39mmax(loss) \u001b[39m<\u001b[39m \u001b[39m1.0\u001b[39m\n",
      "\u001b[1;32m/home/stoian/dcp/Cholesky.ipynb Cell 1'\u001b[0m in \u001b[0;36mbatch_covariance_formula\u001b[0;34m(input)\u001b[0m\n\u001b[1;32m     <a href='vscode-notebook-cell://ssh-remote%2Bscyper11/home/stoian/dcp/Cholesky.ipynb#ch0000000vscode-remote?line=49'>50</a>\u001b[0m \u001b[39m# ret = torch.rand((6,))# if False else torch.tensor([0, 0, 0, -torch.inf, -torch.inf, -torch.inf], dtype=torch.float32)\u001b[39;00m\n\u001b[1;32m     <a href='vscode-notebook-cell://ssh-remote%2Bscyper11/home/stoian/dcp/Cholesky.ipynb#ch0000000vscode-remote?line=50'>51</a>\u001b[0m \u001b[39m# print(ret.dtype)\u001b[39;00m\n\u001b[1;32m     <a href='vscode-notebook-cell://ssh-remote%2Bscyper11/home/stoian/dcp/Cholesky.ipynb#ch0000000vscode-remote?line=51'>52</a>\u001b[0m \u001b[39mprint\u001b[39m(\u001b[39mf\u001b[39m\u001b[39m'\u001b[39m\u001b[39minput=\u001b[39m\u001b[39m{\u001b[39;00m\u001b[39minput\u001b[39m\u001b[39m}\u001b[39;00m\u001b[39m'\u001b[39m)\n\u001b[0;32m---> <a href='vscode-notebook-cell://ssh-remote%2Bscyper11/home/stoian/dcp/Cholesky.ipynb#ch0000000vscode-remote?line=52'>53</a>\u001b[0m A[:, idx[\u001b[39m0\u001b[39m], idx[\u001b[39m1\u001b[39m]] \u001b[39m=\u001b[39m (\u001b[39m0.5\u001b[39m \u001b[39m*\u001b[39m \u001b[39minput\u001b[39m)\u001b[39m.\u001b[39mexp()\n\u001b[1;32m     <a href='vscode-notebook-cell://ssh-remote%2Bscyper11/home/stoian/dcp/Cholesky.ipynb#ch0000000vscode-remote?line=53'>54</a>\u001b[0m S \u001b[39m=\u001b[39m A \u001b[39m@\u001b[39m A\u001b[39m.\u001b[39mtranspose(\u001b[39m1\u001b[39m, \u001b[39m2\u001b[39m)\u001b[39m.\u001b[39mcontiguous()\n\u001b[1;32m     <a href='vscode-notebook-cell://ssh-remote%2Bscyper11/home/stoian/dcp/Cholesky.ipynb#ch0000000vscode-remote?line=55'>56</a>\u001b[0m loss \u001b[39m=\u001b[39m \u001b[39m0.5\u001b[39m \u001b[39m*\u001b[39m (\u001b[39minput\u001b[39m\u001b[39m.\u001b[39mexp()\u001b[39m.\u001b[39msum(dim\u001b[39m=\u001b[39m\u001b[39m1\u001b[39m) \u001b[39m-\u001b[39m \u001b[39minput\u001b[39m[:, :\u001b[39m3\u001b[39m]\u001b[39m.\u001b[39msum(dim\u001b[39m=\u001b[39m\u001b[39m1\u001b[39m) \u001b[39m-\u001b[39m \u001b[39m3\u001b[39m)\n",
      "\u001b[0;31mRuntimeError\u001b[0m: shape mismatch: value tensor of shape [8, 3] cannot be broadcast to indexing result of shape [8, 6]"
     ]
    }
   ],
   "source": [
    "import torch\n",
    "import torch.nn.functional as F\n",
    "\n",
    "# t = torch.Tensor([[1.9392, -1.9266, 0.9664], \n",
    "#             [0.0000, -1.9266, 0.9664], \n",
    "#             [0.0000, -0.0000, 0.9664]]) \n",
    "\n",
    "def covariance_formula(ret):\n",
    "    idx = torch.tensor([[0, 1, 2, 1, 2, 2], [0, 1, 2, 0, 0, 1]], dtype=torch.int64)\n",
    "    A = torch.zeros((3, 3))\n",
    "    # ret = torch.rand((6,))# if False else torch.tensor([0, 0, 0, -torch.inf, -torch.inf, -torch.inf], dtype=torch.float32)\n",
    "    # print(ret.dtype)\n",
    "    A[idx[0], idx[1]] = ret.exp()\n",
    "    S = A @ A.T\n",
    "\n",
    "    loss = 0.5 * ((2 * ret).exp().sum() - 2 * ret[:3].sum() - 3)\n",
    "    test_loss = 0.5 * (torch.trace(S) - torch.log(torch.linalg.det(S)) - 3)\n",
    "    assert torch.isclose(loss, test_loss)\n",
    "    return loss\n",
    "\n",
    "def naive_batch_covariance_formula(ret):\n",
    "    losses = []\n",
    "    for i in range(len(ret)):\n",
    "        loss = covariance_formula(ret[i])\n",
    "        losses.append(loss)\n",
    "    return torch.stack(losses, dim=0)\n",
    "\n",
    "def test_covariance_formula(input):\n",
    "    idx = torch.tensor([[0, 1, 2], [0, 1, 2]], dtype=torch.int64)\n",
    "\n",
    "    # TODO: add requires grad.\n",
    "    A = torch.zeros((input.shape[0], 3, 3))\n",
    "    # ret = torch.rand((6,))# if False else torch.tensor([0, 0, 0, -torch.inf, -torch.inf, -torch.inf], dtype=torch.float32)\n",
    "    # print(ret.dtype)\n",
    "    A[:, idx[0], idx[1]] = input.exp().sqrt()\n",
    "    S = A @ A.transpose(1, 2).contiguous()\n",
    "\n",
    "    loss = 0.5 * (input.exp().sum(dim=1) - input[:, :3].sum(dim=1) - 3)\n",
    "    test_loss = 0.5 * (S.diagonal(offset=0, dim1=-1, dim2=-2).sum(-1) - torch.log(torch.linalg.det(S)) - 3)\n",
    "    real_loss = 0.5 * torch.sum(input.exp() - 1 - input, dim = 1)\n",
    "    print(f'loss={loss}\\ntest_loss={test_loss}\\nreal_loss={real_loss}')\n",
    "    # assert torch.allclose(loss, test_loss) and torch.allclose(loss, real_loss)\n",
    "    return loss\n",
    "\n",
    "def batch_covariance_formula(input):\n",
    "    idx = torch.tensor([[0, 1, 2, 1, 2, 2], [0, 1, 2, 0, 0, 1]], dtype=torch.int64)\n",
    "\n",
    "    # TODO: add requires grad.\n",
    "    A = torch.zeros((input.shape[0], 3, 3))\n",
    "    # ret = torch.rand((6,))# if False else torch.tensor([0, 0, 0, -torch.inf, -torch.inf, -torch.inf], dtype=torch.float32)\n",
    "    # print(ret.dtype)\n",
    "    print(f'input={input}')\n",
    "    A[:, idx[0], idx[1]] = (0.5 * input).exp()\n",
    "    S = A @ A.transpose(1, 2).contiguous()\n",
    "\n",
    "    loss = 0.5 * (input.exp().sum(dim=1) - input[:, :3].sum(dim=1) - 3)\n",
    "    test_loss = torch.mean(0.5 * (S.diagonal(offset=0, dim1=-1, dim2=-2).sum(-1) - torch.log(torch.linalg.det(S)) - 3))\n",
    "    print(f'loss={loss}, test_loss={test_loss}')\n",
    "    assert torch.allclose(loss, test_loss)\n",
    "    return loss\n",
    "\n",
    "batch_size = 8\n",
    "for i in range(100):\n",
    "    input = torch.rand((batch_size, 6))\n",
    "    # naive_output = naive_batch_covariance_formula(input)\n",
    "    # output = batch_covariance_formula(input)\n",
    "    loss = batch_covariance_formula(input)\n",
    "    assert torch.max(loss) < 1.0\n",
    "    # print(loss)\n",
    "    # assert loss < 1.0\n",
    "# assert torch.allclose(output, naive_output)\n",
    "# naive_output, output"
   ]
  }
 ],
 "metadata": {
  "kernelspec": {
   "display_name": "Python 3.10.5 64-bit",
   "language": "python",
   "name": "python3"
  },
  "language_info": {
   "codemirror_mode": {
    "name": "ipython",
    "version": 3
   },
   "file_extension": ".py",
   "mimetype": "text/x-python",
   "name": "python",
   "nbconvert_exporter": "python",
   "pygments_lexer": "ipython3",
   "version": "3.10.5"
  },
  "orig_nbformat": 4,
  "vscode": {
   "interpreter": {
    "hash": "e7370f93d1d0cde622a1f8e1c04877d8463912d04d973331ad4851f04de6915a"
   }
  }
 },
 "nbformat": 4,
 "nbformat_minor": 2
}
