{
 "cells": [
  {
   "cell_type": "code",
   "execution_count": 62,
   "metadata": {},
   "outputs": [
    {
     "data": {
      "text/plain": [
       "(tensor([ 9.6399,  6.5368,  7.5383,  8.0682,  7.2965,  7.9007,  9.1775,  3.8679,\n",
       "          6.7374,  7.2718,  7.0281,  5.5908,  4.4065,  7.1589,  8.0531, 10.3503,\n",
       "          8.8353,  9.0627,  5.4845,  6.3137,  5.6081,  9.2538,  7.7487,  6.9330,\n",
       "          9.3055,  4.4201,  5.3666,  3.2983,  5.7141,  6.3828,  6.1005,  7.9595]),\n",
       " tensor([ 9.6399,  6.5368,  7.5383,  8.0682,  7.2965,  7.9007,  9.1775,  3.8679,\n",
       "          6.7374,  7.2718,  7.0281,  5.5908,  4.4065,  7.1589,  8.0531, 10.3503,\n",
       "          8.8353,  9.0627,  5.4845,  6.3137,  5.6081,  9.2538,  7.7487,  6.9330,\n",
       "          9.3055,  4.4201,  5.3666,  3.2983,  5.7141,  6.3828,  6.1005,  7.9595]))"
      ]
     },
     "execution_count": 62,
     "metadata": {},
     "output_type": "execute_result"
    }
   ],
   "source": [
    "import torch\n",
    "import torch.nn.functional as F\n",
    "\n",
    "# t = torch.Tensor([[1.9392, -1.9266, 0.9664], \n",
    "#             [0.0000, -1.9266, 0.9664], \n",
    "#             [0.0000, -0.0000, 0.9664]]) \n",
    "\n",
    "def covariance_formula(ret):\n",
    "    idx = torch.tensor([[0, 1, 2, 1, 2, 2], [0, 1, 2, 0, 0, 1]], dtype=torch.int64)\n",
    "    A = torch.zeros((3, 3))\n",
    "    # ret = torch.rand((6,))# if False else torch.tensor([0, 0, 0, -torch.inf, -torch.inf, -torch.inf], dtype=torch.float32)\n",
    "    # print(ret.dtype)\n",
    "    A[idx[0], idx[1]] = ret.exp()\n",
    "    S = A @ A.T\n",
    "\n",
    "    loss = 0.5 * ((2 * ret).exp().sum() - 2 * ret[:3].sum() - 3)\n",
    "    test_loss = 0.5 * (torch.trace(S) - torch.log(torch.linalg.det(S)) - 3)\n",
    "    assert torch.isclose(loss, test_loss)\n",
    "    return loss\n",
    "\n",
    "def naive_batch_covariance_formula(ret):\n",
    "    losses = []\n",
    "    for i in range(len(ret)):\n",
    "        loss = covariance_formula(ret[i])\n",
    "        losses.append(loss)\n",
    "    return torch.stack(losses, dim=0)\n",
    "\n",
    "def batch_covariance_formula(input):\n",
    "    idx = torch.tensor([[0, 1, 2, 1, 2, 2], [0, 1, 2, 0, 0, 1]], dtype=torch.int64)\n",
    "\n",
    "    # TODO: add requires grad.\n",
    "    A = torch.zeros((input.shape[0], 3, 3))\n",
    "    # ret = torch.rand((6,))# if False else torch.tensor([0, 0, 0, -torch.inf, -torch.inf, -torch.inf], dtype=torch.float32)\n",
    "    # print(ret.dtype)\n",
    "    A[:, idx[0], idx[1]] = input.exp()\n",
    "    S = A @ A.transpose(1, 2).contiguous()\n",
    "\n",
    "    loss = 0.5 * ((2 * input).exp().sum(dim=1) - 2 * input[:, :3].sum(dim=1) - 3)\n",
    "    test_loss = 0.5 * (S.diagonal(offset=0, dim1=-1, dim2=-2).sum(-1) - torch.log(torch.linalg.det(S)) - 3)\n",
    "    assert torch.allclose(loss, test_loss)\n",
    "    return loss\n",
    "\n",
    "batch_size = 32\n",
    "input = torch.rand((batch_size, 6))\n",
    "naive_output = naive_batch_covariance_formula(input)\n",
    "output = batch_covariance_formula(input)\n",
    "assert torch.allclose(output, naive_output)\n",
    "naive_output, output"
   ]
  }
 ],
 "metadata": {
  "kernelspec": {
   "display_name": "Python 3.10.5 64-bit",
   "language": "python",
   "name": "python3"
  },
  "language_info": {
   "codemirror_mode": {
    "name": "ipython",
    "version": 3
   },
   "file_extension": ".py",
   "mimetype": "text/x-python",
   "name": "python",
   "nbconvert_exporter": "python",
   "pygments_lexer": "ipython3",
   "version": "3.10.5"
  },
  "orig_nbformat": 4,
  "vscode": {
   "interpreter": {
    "hash": "e7370f93d1d0cde622a1f8e1c04877d8463912d04d973331ad4851f04de6915a"
   }
  }
 },
 "nbformat": 4,
 "nbformat_minor": 2
}
